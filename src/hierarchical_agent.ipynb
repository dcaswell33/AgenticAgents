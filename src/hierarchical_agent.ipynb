{
 "cells": [
  {
   "cell_type": "markdown",
   "metadata": {},
   "source": [
    "# Hierarchical Agentic"
   ]
  },
  {
   "cell_type": "markdown",
   "metadata": {},
   "source": [
    "## Hierarchical Assimilator Agent (aka Expert System)\n",
    "Implementation is heavily based on [LlamaIndex's llm_compiler.ipynb](https://github.com/run-llama/llama-hub/blob/main/llama_hub/llama_packs/agents/llm_compiler/llm_compiler.ipynb)\n",
    "based on the original work at [LLMCompiler](https://github.com/SqueezeAILab/LLMCompiler)"
   ]
  },
  {
   "cell_type": "code",
   "execution_count": 2,
   "metadata": {},
   "outputs": [],
   "source": [
    "from assimilator_agent.agent import AssimilatorAgent\n",
    "\n",
    "agent = AssimilatorAgent()"
   ]
  },
  {
   "cell_type": "code",
   "execution_count": 3,
   "metadata": {},
   "outputs": [
    {
     "name": "stdout",
     "output_type": "stream",
     "text": [
      "INFO:root:Toronto not found, retrieving.\n",
      "Toronto not found, retrieving.\n",
      "Toronto not found, retrieving.\n",
      "INFO:httpx:HTTP Request: POST https://api.openai.com/v1/embeddings \"HTTP/1.1 200 OK\"\n",
      "HTTP Request: POST https://api.openai.com/v1/embeddings \"HTTP/1.1 200 OK\"\n",
      "HTTP Request: POST https://api.openai.com/v1/embeddings \"HTTP/1.1 200 OK\"\n",
      "INFO:root:Seattle not found, retrieving.\n",
      "Seattle not found, retrieving.\n",
      "Seattle not found, retrieving.\n",
      "INFO:httpx:HTTP Request: POST https://api.openai.com/v1/embeddings \"HTTP/1.1 200 OK\"\n",
      "HTTP Request: POST https://api.openai.com/v1/embeddings \"HTTP/1.1 200 OK\"\n",
      "HTTP Request: POST https://api.openai.com/v1/embeddings \"HTTP/1.1 200 OK\"\n",
      "INFO:root:Denver not found, retrieving.\n",
      "Denver not found, retrieving.\n",
      "Denver not found, retrieving.\n",
      "INFO:httpx:HTTP Request: POST https://api.openai.com/v1/embeddings \"HTTP/1.1 200 OK\"\n",
      "HTTP Request: POST https://api.openai.com/v1/embeddings \"HTTP/1.1 200 OK\"\n",
      "HTTP Request: POST https://api.openai.com/v1/embeddings \"HTTP/1.1 200 OK\"\n",
      "INFO:root:Boston not found, retrieving.\n",
      "Boston not found, retrieving.\n",
      "Boston not found, retrieving.\n",
      "INFO:httpx:HTTP Request: POST https://api.openai.com/v1/embeddings \"HTTP/1.1 200 OK\"\n",
      "HTTP Request: POST https://api.openai.com/v1/embeddings \"HTTP/1.1 200 OK\"\n",
      "HTTP Request: POST https://api.openai.com/v1/embeddings \"HTTP/1.1 200 OK\"\n",
      "INFO:root:Miami not found, retrieving.\n",
      "Miami not found, retrieving.\n",
      "Miami not found, retrieving.\n",
      "INFO:httpx:HTTP Request: POST https://api.openai.com/v1/embeddings \"HTTP/1.1 200 OK\"\n",
      "HTTP Request: POST https://api.openai.com/v1/embeddings \"HTTP/1.1 200 OK\"\n",
      "HTTP Request: POST https://api.openai.com/v1/embeddings \"HTTP/1.1 200 OK\"\n"
     ]
    }
   ],
   "source": [
    "from assimilator_agent.agent import AgentDocument\n",
    "\n",
    "documents = []\n",
    "# test documents from wiki\n",
    "for doc in [\"Toronto\", \"Seattle\", \"Denver\", \"Boston\", \"Miami\"]:\n",
    "    documents.append(\n",
    "        AgentDocument(doc, doc, 'wiki', \n",
    "                    \"Useful for questions related to specific aspects of\"\n",
    "                    f\" {doc} (e.g. the history, arts and culture, sports, demographics, or more).\"))\n",
    "\n",
    "# documents.extend([\n",
    "#    Document(\"NIST80053\", \"./NIST.SP.800-53r5.pdf\", \"pdf\", \"NIST 800-53 revision 5 describing security implementation controls that should be used across governement agencies\"),\n",
    "#    Document(\"MARSEVol1\", \"./MARS-E v2-2-Vol-1_Final-Signed_08032021-1.pdf\", \"pdf\", \"MARS-E v2 Volume 1 describing security implementation controls that should be used across financial services\"),\n",
    "#    Document(\"MARSEVol2\", \"./MARS-E-v2-2-Vol-2-AE-ACA-SSP_Final_08032021.pdf\", \"pdf\", \"MARS-E v2 Volume 2 describing security implementation controls that should be used across financial services\"),\n",
    "# ])\n",
    "\n",
    "# Create embedding models for the key documents\n",
    "agent = AssimilatorAgent()\n",
    "agent.add_documents(documents)"
   ]
  },
  {
   "cell_type": "code",
   "execution_count": 9,
   "metadata": {},
   "outputs": [
    {
     "name": "stdout",
     "output_type": "stream",
     "text": [
      "> Running step 6e4c90ea-f35d-420d-af1b-2e92e72e928e for task f3975c79-d702-4c5d-bc4a-4eda145b976e.\n",
      "> Step count: 0\n",
      "INFO:httpx:HTTP Request: POST https://api.openai.com/v1/chat/completions \"HTTP/1.1 200 OK\"\n",
      "HTTP Request: POST https://api.openai.com/v1/chat/completions \"HTTP/1.1 200 OK\"\n",
      "HTTP Request: POST https://api.openai.com/v1/chat/completions \"HTTP/1.1 200 OK\"\n",
      "\u001b[1;3;38;5;200m> Plan: 1. vector_tool_Denver(\"major things to do in Denver\")\n",
      "2. vector_tool_Boston(\"major things to do in Boston\")\n",
      "3. join()<END_OF_PLAN>\n",
      "\u001b[0mINFO:httpx:HTTP Request: POST https://api.openai.com/v1/embeddings \"HTTP/1.1 200 OK\"\n",
      "HTTP Request: POST https://api.openai.com/v1/embeddings \"HTTP/1.1 200 OK\"\n",
      "HTTP Request: POST https://api.openai.com/v1/embeddings \"HTTP/1.1 200 OK\"\n",
      "INFO:httpx:HTTP Request: POST https://api.openai.com/v1/embeddings \"HTTP/1.1 200 OK\"\n",
      "HTTP Request: POST https://api.openai.com/v1/embeddings \"HTTP/1.1 200 OK\"\n",
      "HTTP Request: POST https://api.openai.com/v1/embeddings \"HTTP/1.1 200 OK\"\n",
      "INFO:httpx:HTTP Request: POST https://api.openai.com/v1/chat/completions \"HTTP/1.1 200 OK\"\n",
      "HTTP Request: POST https://api.openai.com/v1/chat/completions \"HTTP/1.1 200 OK\"\n",
      "HTTP Request: POST https://api.openai.com/v1/chat/completions \"HTTP/1.1 200 OK\"\n",
      "\u001b[1;3;34mRan task: vector_tool_Boston. Observation: Explore the historic Freedom Trail, visit the renowned Museum of Fine Arts, enjoy a leisurely stroll in the Boston Public Garden, take a trip to Fenway Park for a Red Sox game, and indulge in delicious seafood at the local restaurants.\n",
      "\u001b[0mINFO:httpx:HTTP Request: POST https://api.openai.com/v1/chat/completions \"HTTP/1.1 200 OK\"\n",
      "HTTP Request: POST https://api.openai.com/v1/chat/completions \"HTTP/1.1 200 OK\"\n",
      "HTTP Request: POST https://api.openai.com/v1/chat/completions \"HTTP/1.1 200 OK\"\n",
      "\u001b[1;3;34mRan task: vector_tool_Denver. Observation: Explore the city's vibrant arts scene, visit the Denver Art Museum, take a stroll through the historic Larimer Square, enjoy outdoor activities in the Rocky Mountains, and experience the local cuisine at various restaurants and food markets.\n",
      "\u001b[0m\u001b[1;3;34mRan task: join. Observation: None\n",
      "\u001b[0mINFO:httpx:HTTP Request: POST https://api.openai.com/v1/chat/completions \"HTTP/1.1 200 OK\"\n",
      "HTTP Request: POST https://api.openai.com/v1/chat/completions \"HTTP/1.1 200 OK\"\n",
      "HTTP Request: POST https://api.openai.com/v1/chat/completions \"HTTP/1.1 200 OK\"\n",
      "\u001b[1;3;38;5;200m> Thought: \n",
      "\u001b[0m\u001b[1;3;38;5;200m> Answer: \"Major things to do in Denver: Explore the city's vibrant arts scene, visit the Denver Art Museum, take a stroll through the historic Larimer Square, enjoy outdoor activities in the Rocky Mountains, and experience the local cuisine at various restaurants and food markets. Major things to do in Boston: Explore the historic Freedom Trail, visit the renowned Museum of Fine Arts, enjoy a leisurely stroll in the Boston Public Garden, take a trip to Fenway Park for a Red Sox game, and indulge in delicious seafood at the local restaurants.\"\n",
      "\u001b[0m\"Major things to do in Denver: Explore the city's vibrant arts scene, visit the Denver Art Museum, take a stroll through the historic Larimer Square, enjoy outdoor activities in the Rocky Mountains, and experience the local cuisine at various restaurants and food markets. Major things to do in Boston: Explore the historic Freedom Trail, visit the renowned Museum of Fine Arts, enjoy a leisurely stroll in the Boston Public Garden, take a trip to Fenway Park for a Red Sox game, and indulge in delicious seafood at the local restaurants.\"\n"
     ]
    }
   ],
   "source": [
    "\n",
    "import nest_asyncio\n",
    "\n",
    "nest_asyncio.apply()\n",
    "\n",
    "response = agent.chat(\"What are the major things to do in Denver and Boston?\")\n",
    "print(response)"
   ]
  }
 ],
 "metadata": {
  "kernelspec": {
   "display_name": "venv",
   "language": "python",
   "name": "python3"
  },
  "language_info": {
   "codemirror_mode": {
    "name": "ipython",
    "version": 3
   },
   "file_extension": ".py",
   "mimetype": "text/x-python",
   "name": "python",
   "nbconvert_exporter": "python",
   "pygments_lexer": "ipython3",
   "version": "3.12.1"
  }
 },
 "nbformat": 4,
 "nbformat_minor": 2
}
